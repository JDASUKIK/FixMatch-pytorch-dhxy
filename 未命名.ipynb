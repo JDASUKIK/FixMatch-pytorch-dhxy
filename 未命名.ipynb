{
 "cells": [
  {
   "cell_type": "code",
   "execution_count": 14,
   "id": "b42db484",
   "metadata": {},
   "outputs": [],
   "source": [
    "import torch\n",
    "from torchvision import transforms\n",
    "from PIL import Image\n",
    "import matplotlib.pyplot as plt\n"
   ]
  },
  {
   "cell_type": "code",
   "execution_count": 29,
   "id": "01212bf0",
   "metadata": {},
   "outputs": [],
   "source": [
    "img = Image.open(\"/Users/niushaolong/NewSL/Git/OthersGithub/FixMatch-pytorch/img_1.png\")\n",
    "augment=transforms.Compose([transforms.Resize((100,100)),transforms.RandAugment(2,15)])\n",
    "img = img.convert('RGB')"
   ]
  },
  {
   "cell_type": "code",
   "execution_count": 21,
   "id": "354f594c",
   "metadata": {},
   "outputs": [],
   "source": []
  },
  {
   "cell_type": "code",
   "execution_count": 30,
   "id": "eb6d28bb",
   "metadata": {},
   "outputs": [],
   "source": [
    "combined_img = Image.new('RGB', (100 * 4, 100 * 4))\n",
    "for i in range(10):\n",
    "    combined_img.paste(augment(img),(i%4*100, i//4*100))\n",
    "combined_img.show()"
   ]
  },
  {
   "cell_type": "code",
   "execution_count": 38,
   "id": "74ba330a",
   "metadata": {},
   "outputs": [],
   "source": [
    "randcrop = transforms.Compose([transforms.Resize((100,100)),transforms.RandomResizedCrop(100,ratio=(3/4,4/3),scale=(0.08,0.5))])\n",
    "combined_img = Image.new('RGB', (100 * 4, 100 * 4))\n",
    "for i in range(10):\n",
    "    combined_img.paste(randcrop(img),(i%4*100, i//4*100))\n",
    "combined_img.show()"
   ]
  },
  {
   "cell_type": "code",
   "execution_count": 33,
   "id": "82f28cbb",
   "metadata": {},
   "outputs": [],
   "source": [
    "img.show()\n"
   ]
  },
  {
   "cell_type": "code",
   "execution_count": 40,
   "id": "b4e3b7b2",
   "metadata": {},
   "outputs": [
    {
     "name": "stdout",
     "output_type": "stream",
     "text": [
      "495 496 497\n",
      "999 1000 1001\n",
      "1503 1504 1505\n",
      "2007 2008 2009\n",
      "2511 2512 2513\n",
      "3015 3016 3017\n",
      "3519 3520 3521\n",
      "4023 4024 4025\n",
      "4527 4528 4529\n",
      "5031 5032 5033\n",
      "5535 5536 5537\n",
      "6039 6040 6041\n",
      "6543 6544 6545\n",
      "7047 7048 7049\n",
      "7551 7552 7553\n",
      "8055 8056 8057\n",
      "8559 8560 8561\n",
      "9063 9064 9065\n",
      "9567 9568 9569\n"
     ]
    }
   ],
   "source": [
    "for i in range(10000):\n",
    "    if(i%9==0 and (i+1)%8==0 and (i+2)%7==0):\n",
    "        print(i,i+1,i+2)"
   ]
  },
  {
   "cell_type": "code",
   "execution_count": null,
   "id": "5e21cb85",
   "metadata": {},
   "outputs": [],
   "source": []
  }
 ],
 "metadata": {
  "kernelspec": {
   "display_name": "Python 3 (ipykernel)",
   "language": "python",
   "name": "python3"
  },
  "language_info": {
   "codemirror_mode": {
    "name": "ipython",
    "version": 3
   },
   "file_extension": ".py",
   "mimetype": "text/x-python",
   "name": "python",
   "nbconvert_exporter": "python",
   "pygments_lexer": "ipython3",
   "version": "3.11.3"
  }
 },
 "nbformat": 4,
 "nbformat_minor": 5
}
